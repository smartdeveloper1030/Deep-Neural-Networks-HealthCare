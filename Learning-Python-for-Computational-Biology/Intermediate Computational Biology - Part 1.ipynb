{
 "cells": [
  {
   "cell_type": "code",
   "execution_count": 1,
   "metadata": {},
   "outputs": [
    {
     "name": "stdout",
     "output_type": "stream",
     "text": [
      "11\n"
     ]
    }
   ],
   "source": [
    "seq_1 = 'Hello,'\n",
    "seq_2 = ' you!'\n",
    "total = seq_1 + seq_2\n",
    "seq_size = len(total)\n",
    "print(seq_size)"
   ]
  },
  {
   "cell_type": "code",
   "execution_count": 2,
   "metadata": {},
   "outputs": [
    {
     "ename": "SyntaxError",
     "evalue": "invalid syntax (<ipython-input-2-0cc9dcfbd1fe>, line 12)",
     "output_type": "error",
     "traceback": [
      "\u001b[0;36m  File \u001b[0;32m\"<ipython-input-2-0cc9dcfbd1fe>\"\u001b[0;36m, line \u001b[0;32m12\u001b[0m\n\u001b[0;31m    except FileNotFoundError:\u001b[0m\n\u001b[0m         ^\u001b[0m\n\u001b[0;31mSyntaxError\u001b[0m\u001b[0;31m:\u001b[0m invalid syntax\n"
     ]
    }
   ],
   "source": [
    "try:\n",
    "   iname = input(\"Enter input filename: \")\n",
    "   oname = input(\"Enter output filename: \")\n",
    "   with open(iname) as fh:\n",
    "       line = fh.readline()\n",
    "   if '\\t' in line:\n",
    "       value = line.split('\\t')[0]\n",
    "   with open(oname, 'w') as fw:\n",
    "       fw.write(str(int(value)*.2))\n",
    "except NameError:\n",
    "   print(\"There is no TAB. Check the input file\"\n",
    "except FileNotFoundError:\n",
    "   print(\"File not exist\")\n",
    "except PermissionError:\n",
    "   print(\"Can't write to outfile.\")\n",
    "except ValueError:\n",
    "   print(\"The value can't be converted to int\")\n",
    "else:\n",
    "   print(\"Thank you!. Everything went OK.\")"
   ]
  },
  {
   "cell_type": "code",
   "execution_count": null,
   "metadata": {
    "collapsed": true
   },
   "outputs": [],
   "source": []
  }
 ],
 "metadata": {
  "kernelspec": {
   "display_name": "Python 3",
   "language": "python",
   "name": "python3"
  },
  "language_info": {
   "codemirror_mode": {
    "name": "ipython",
    "version": 3
   },
   "file_extension": ".py",
   "mimetype": "text/x-python",
   "name": "python",
   "nbconvert_exporter": "python",
   "pygments_lexer": "ipython3",
   "version": "3.6.1"
  }
 },
 "nbformat": 4,
 "nbformat_minor": 2
}
