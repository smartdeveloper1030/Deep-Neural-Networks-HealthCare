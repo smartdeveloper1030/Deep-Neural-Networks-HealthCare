{
 "cells": [
  {
   "cell_type": "markdown",
   "metadata": {},
   "source": [
    "# What is biopython \n",
    "\n",
    "<img src=\"../images/biopy.png\" style=\"width:500px;height:300;\">\n",
    "\n",
    "The Biopython Project is an international association of developers of freely available Python (http://www. python.org) tools for computational molecular biology. Python is an object oriented, interpreted, flexible language that is becoming increasingly popular for scientific computing. Python is easy to learn, has a very clear syntax and can easily be extended with modules written in C, C++ or FORTRAN.\n",
    "\n",
    "The Biopython web site (http://www.biopython.org) provides an online resource for modules, scripts, and web links for developers of Python-based software for bioinformatics use and research. Basically, the goal of Biopython is to make it as easy as possible to use Python for bioinformatics by creating high-quality, reusable modules and classes. Biopython features include parsers for various Bioinformatics file formats (BLAST, Clustalw, FASTA, Genbank,...), access to online services (NCBI, Expasy,...), interfaces to common and not-so-common programs (Clustalw, DSSP, MSMS...), a standard sequence class, various clustering modules, a KD tree data structure etc. and even documentation.\n",
    "Basically, we just like to program in Python and want to make it as easy as possible to use Python for bioinformatics by creating high-quality, reusable modules and scripts.\n",
    "\n",
    "### What's there in the the Biopython Package?\n",
    "\n",
    "- The ability to parse bioinformatics files into Python utilizable data structures, including support for the following formats:\n",
    "        – Blast output – both from standalone and WWW Blast – Clustalw\n",
    "        – FASTA\n",
    "        – GenBank\n",
    "        – PubMed and Medline\n",
    "        – ExPASy files, like Enzyme and Prosite – SCOP, including ‘dom’ and ‘lin’ files\n",
    "        – UniGene\n",
    "        – SwissProt\n",
    "- Files in the supported formats can be iterated over record by record or indexed and accessed via a Dictionary interface.\n",
    "-  Code to deal with popular on-line bioinformatics destinations such as: \n",
    "        – NCBI – Blast, Entrez and PubMed services\n",
    "        – ExPASy – Swiss-Prot and Prosite entries, as well as Prosite searches\n",
    "- Interfaces to common bioinformatics programs such as:\n",
    "        – Standalone Blast from NCBI \n",
    "        – Clustalw alignment program \n",
    "        – EMBOSS command line tools\n",
    "- A standard sequence class that deals with sequences, ids on sequences, and sequence features.\n",
    "- Tools for performing common operations on sequences, such as translation, transcription and weight\n",
    "calculations.\n",
    "- Code to perform classification of data using k Nearest Neighbors, Naive Bayes or Support Vector Machines.\n",
    "- Code for dealing with alignments, including a standard way to create and deal with substitution matrices.\n",
    "- Code making it easy to split up parallelizable tasks into separate processes.\n",
    "- GUI-based programs to do basic sequence manipulations, translations, BLASTing, etc.\n",
    "- Extensive documentation and help with using the modules, including this file, on-line wiki documen- tation, the web site, and the mailing list.\n",
    "- Integration with BioSQL, a sequence database schema also supported by the BioPerl and BioJava projects."
   ]
  },
  {
   "cell_type": "markdown",
   "metadata": {},
   "source": [
    "# Getting biopython\n"
   ]
  },
  {
   "cell_type": "code",
   "execution_count": 3,
   "metadata": {},
   "outputs": [
    {
     "name": "stdout",
     "output_type": "stream",
     "text": [
      "Collecting biopython\n",
      "  Downloading biopython-1.70-cp36-cp36m-macosx_10_6_intel.macosx_10_9_intel.macosx_10_9_x86_64.macosx_10_10_intel.macosx_10_10_x86_64.whl (2.1MB)\n",
      "\u001b[K    100% |████████████████████████████████| 2.1MB 380kB/s eta 0:00:01\n",
      "\u001b[?25hRequirement already satisfied: numpy in /Users/tarrysingh/anaconda/lib/python3.6/site-packages (from biopython)\n",
      "Installing collected packages: biopython\n",
      "Successfully installed biopython-1.70\n"
     ]
    }
   ],
   "source": [
    "!pip install biopython"
   ]
  },
  {
   "cell_type": "markdown",
   "metadata": {},
   "source": [
    "## Step 1: Understanding what Biopython can do for you\n",
    "\n",
    "Bioinformatics or Computational Biology is all about alphabets. DNA, as most of you may have learned is a 4-letter alphabet namelt `(A,C,T,G)` whereas proteins have their 20 amino acids, each of them represeted by a letter.\n",
    "\n",
    "**NOTE**: \n",
    "- There are also special “alphabets” like the ones that contemplate ambiguity positions. These are positions where more than one nucleotide may be present. For example, the letter `S` may represent the nucleic acids `C` or `G`, and the letter `H` represents `A`, `C`, or `T`. \n",
    "- This ambiguous alphabet in Biopython is called ambigu- ous_dna. Concerning the proteins, there is also an extended dictionary, which is the dictionary that contains amino acids that are not normally found in pro- teins8 (ExtendedIUPACProtein). Similarly, there is an extended alphabet for nucleotides (**ExtendedIUPACProtein**)\n",
    "- Similarly, there is an extended alphabet for nucleotides (**ExtendedIUPACDNA**) that allows letters with modified bases. \n",
    "\n",
    "Let's revist proteins where there is also a reduced alphabet that,taking into account common physicochemical properties, *lumps* together several amino acids into one letter!\n",
    "\n",
    "We also have a alphabet that is not DNA or amino-acid based: **SecondaryStructure**. This alphabet represents domains like **H**elix, **T**urn, **S**trand and **C**oil.\n",
    "\n",
    "Another thing: Alphabets defined by IUPAC are stored in biopython as classes of the IUPAC module. Parent mobule being **Bio.Alphabet** which includes more general/generic cases.\n",
    "\n",
    "OK, enough boring theory, let's now play with the attributes of these alphabets:"
   ]
  },
  {
   "cell_type": "code",
   "execution_count": 1,
   "metadata": {},
   "outputs": [],
   "source": [
    "import Bio.Alphabet as bioalp"
   ]
  },
  {
   "cell_type": "code",
   "execution_count": 5,
   "metadata": {},
   "outputs": [
    {
     "name": "stdout",
     "output_type": "stream",
     "text": [
      "['Ala', 'Asx', 'Cys', 'Asp', 'Glu', 'Phe', 'Gly', 'His', 'Ile', 'Lys', 'Leu', 'Met', 'Asn', 'Pro', 'Gln', 'Arg', 'Ser', 'Thr', 'Sec', 'Val', 'Trp', 'Xaa', 'Tyr', 'Glx']\n"
     ]
    }
   ],
   "source": [
    "print(bioalp.ThreeLetterProtein.letters)"
   ]
  },
  {
   "cell_type": "code",
   "execution_count": 6,
   "metadata": {},
   "outputs": [],
   "source": [
    "from Bio.Alphabet import IUPAC as bioiupac"
   ]
  },
  {
   "cell_type": "code",
   "execution_count": 7,
   "metadata": {},
   "outputs": [
    {
     "name": "stdout",
     "output_type": "stream",
     "text": [
      "ACDEFGHIKLMNPQRSTVWY\n"
     ]
    }
   ],
   "source": [
    "print(bioiupac.IUPACProtein.letters)"
   ]
  },
  {
   "cell_type": "code",
   "execution_count": 8,
   "metadata": {},
   "outputs": [
    {
     "data": {
      "text/plain": [
       "'GATC'"
      ]
     },
     "execution_count": 8,
     "metadata": {},
     "output_type": "execute_result"
    }
   ],
   "source": [
    "# Unambiguous DNA letters\n",
    "bioiupac.unambiguous_dna.letters"
   ]
  },
  {
   "cell_type": "code",
   "execution_count": 9,
   "metadata": {},
   "outputs": [
    {
     "data": {
      "text/plain": [
       "'GATCRYWSMKHBVDN'"
      ]
     },
     "execution_count": 9,
     "metadata": {},
     "output_type": "execute_result"
    }
   ],
   "source": [
    "# Ambiguous DNA letters\n",
    "bioiupac.ambiguous_dna.letters"
   ]
  },
  {
   "cell_type": "code",
   "execution_count": 10,
   "metadata": {},
   "outputs": [
    {
     "data": {
      "text/plain": [
       "'GAUC'"
      ]
     },
     "execution_count": 10,
     "metadata": {},
     "output_type": "execute_result"
    }
   ],
   "source": [
    "# Unambiguous RNA letters\n",
    "bioiupac.unambiguous_rna.letters"
   ]
  },
  {
   "cell_type": "code",
   "execution_count": 11,
   "metadata": {},
   "outputs": [
    {
     "data": {
      "text/plain": [
       "IUPACAmbiguousRNA()"
      ]
     },
     "execution_count": 11,
     "metadata": {},
     "output_type": "execute_result"
    }
   ],
   "source": [
    "# Ambiguous RNA letters\n",
    "bioiupac.ambiguous_rna"
   ]
  },
  {
   "cell_type": "code",
   "execution_count": 12,
   "metadata": {},
   "outputs": [
    {
     "data": {
      "text/plain": [
       "'ACDEFGHIKLMNPQRSTVWYBXZJUO'"
      ]
     },
     "execution_count": 12,
     "metadata": {},
     "output_type": "execute_result"
    }
   ],
   "source": [
    "# ExtendedIUPACProtein Letters\n",
    "bioiupac.ExtendedIUPACProtein.letters"
   ]
  },
  {
   "cell_type": "code",
   "execution_count": 14,
   "metadata": {},
   "outputs": [
    {
     "data": {
      "text/plain": [
       "'GATCBDSW'"
      ]
     },
     "execution_count": 14,
     "metadata": {},
     "output_type": "execute_result"
    }
   ],
   "source": [
    "# #IUPACDNA letters\n",
    "bioiupac.ExtendedIUPACDNA.letters"
   ]
  },
  {
   "cell_type": "markdown",
   "metadata": {},
   "source": [
    "### Sequences : Alphabets are used to define the content of a sequence\n",
    "\n",
    "**Question**: For instance, would we know if a sequence made of `CCGGGTT` is a small peptide with several cysteine, glycine and threonine or is it a DNA fragment of cytosine, guanine and thymine?\n",
    "\n",
    "Fortunately we have **Seq** object that helps us with this because if things were stored as strings like we usually have in Python regular library, we wouldn't know what kind of sequence it is."
   ]
  },
  {
   "cell_type": "code",
   "execution_count": 15,
   "metadata": {
    "collapsed": true
   },
   "outputs": [],
   "source": [
    "\"\"\"\n",
    "Here the object is composed of the sequence itself and an alphabet\n",
    "which defines the nature of the sequence\n",
    "\"\"\"\n",
    "from Bio.Seq import Seq\n",
    "seq = Seq('CCGGGTT', bioalp.IUPAC.unambiguous_dna) # define this Seq as a DNA"
   ]
  },
  {
   "cell_type": "code",
   "execution_count": 16,
   "metadata": {},
   "outputs": [
    {
     "data": {
      "text/plain": [
       "Seq('CCGGGUU', IUPACUnambiguousRNA())"
      ]
     },
     "execution_count": 16,
     "metadata": {},
     "output_type": "execute_result"
    }
   ],
   "source": [
    "# Next, we use the transcribe and translate methods within the Seq\n",
    "seq.transcribe()"
   ]
  },
  {
   "cell_type": "code",
   "execution_count": 17,
   "metadata": {},
   "outputs": [
    {
     "name": "stderr",
     "output_type": "stream",
     "text": [
      "/Users/tarrysingh/anaconda/lib/python3.6/site-packages/Bio/Seq.py:2309: BiopythonWarning: Partial codon, len(sequence) not a multiple of three. Explicitly trim the sequence or add trailing N before translation. This may become an error in future.\n",
      "  BiopythonWarning)\n"
     ]
    },
    {
     "data": {
      "text/plain": [
       "Seq('PG', IUPACProtein())"
      ]
     },
     "execution_count": 17,
     "metadata": {},
     "output_type": "execute_result"
    }
   ],
   "source": [
    "seq.translate()"
   ]
  },
  {
   "cell_type": "markdown",
   "metadata": {},
   "source": [
    "### But, can we transcribe an RNA sequence? \n",
    "\n",
    "Let's find out..."
   ]
  },
  {
   "cell_type": "code",
   "execution_count": null,
   "metadata": {
    "collapsed": true
   },
   "outputs": [],
   "source": []
  }
 ],
 "metadata": {
  "kernelspec": {
   "display_name": "Python 3",
   "language": "python",
   "name": "python3"
  },
  "language_info": {
   "codemirror_mode": {
    "name": "ipython",
    "version": 3
   },
   "file_extension": ".py",
   "mimetype": "text/x-python",
   "name": "python",
   "nbconvert_exporter": "python",
   "pygments_lexer": "ipython3",
   "version": "3.6.1"
  }
 },
 "nbformat": 4,
 "nbformat_minor": 2
}
