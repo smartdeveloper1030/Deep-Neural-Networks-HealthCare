{
 "cells": [
  {
   "cell_type": "markdown",
   "metadata": {},
   "source": [
    "# Getting BioPython"
   ]
  },
  {
   "cell_type": "code",
   "execution_count": 3,
   "metadata": {},
   "outputs": [
    {
     "name": "stdout",
     "output_type": "stream",
     "text": [
      "Collecting biopython\n",
      "  Downloading biopython-1.70-cp36-cp36m-macosx_10_6_intel.macosx_10_9_intel.macosx_10_9_x86_64.macosx_10_10_intel.macosx_10_10_x86_64.whl (2.1MB)\n",
      "\u001b[K    100% |████████████████████████████████| 2.1MB 380kB/s eta 0:00:01\n",
      "\u001b[?25hRequirement already satisfied: numpy in /Users/tarrysingh/anaconda/lib/python3.6/site-packages (from biopython)\n",
      "Installing collected packages: biopython\n",
      "Successfully installed biopython-1.70\n"
     ]
    }
   ],
   "source": [
    "!pip install biopython"
   ]
  },
  {
   "cell_type": "markdown",
   "metadata": {},
   "source": [
    "## Understanding what Biopython can do for you\n",
    "\n",
    "Bioinformatics or Computational Biology is all about alphabets. DNA, as most of you may have learned is a 4-letter alphabet namelt `(A,C,T,G)` whereas proteins have their 20 amino acids, each of them represeted by a letter.\n",
    "\n",
    "**NOTE**: \n",
    "- There are also special “alphabets” like the ones that contemplate ambiguity positions. These are positions where more than one nucleotide may be present. For example, the letter `S` may represent the nucleic acids `C` or `G`, and the letter `H` represents `A`, `C`, or `T`. \n",
    "- This ambiguous alphabet in Biopython is called ambigu- ous_dna. Concerning the proteins, there is also an extended dictionary, which is the dictionary that contains amino acids that are not normally found in pro- teins8 (ExtendedIUPACProtein). Similarly, there is an extended alphabet for nucleotides (**ExtendedIUPACProtein**)\n",
    "- Similarly, there is an extended alphabet for nucleotides (**ExtendedIUPACDNA**) that allows letters with modified bases. \n",
    "\n",
    "Let's revist proteins where there is also a reduced alphabet that,taking into account common physicochemical properties, *lumps* together several amino acids into one letter!\n",
    "\n",
    "We also have a alphabet that is not DNA or amino-acid based: **SecondaryStructure**. This alphabet represents domains like **H**elix, **T**urn, **S**trand and **C**oil.\n",
    "\n",
    "Another thing: Alphabets defined by IUPAC are stored in biopython as classes of the IUPAC module. Parent mobule being **Bio.Alphabet** which includes more general/generic cases.\n",
    "\n",
    "OK, enough boring theory, let's now play with the attributes of these alphabets:"
   ]
  },
  {
   "cell_type": "code",
   "execution_count": 5,
   "metadata": {},
   "outputs": [],
   "source": [
    "import Bio.Alphabet as bioalp"
   ]
  },
  {
   "cell_type": "code",
   "execution_count": 6,
   "metadata": {},
   "outputs": [
    {
     "name": "stdout",
     "output_type": "stream",
     "text": [
      "['Ala', 'Asx', 'Cys', 'Asp', 'Glu', 'Phe', 'Gly', 'His', 'Ile', 'Lys', 'Leu', 'Met', 'Asn', 'Pro', 'Gln', 'Arg', 'Ser', 'Thr', 'Sec', 'Val', 'Trp', 'Xaa', 'Tyr', 'Glx']\n"
     ]
    }
   ],
   "source": [
    "print(bioalp.ThreeLetterProtein.letters)"
   ]
  },
  {
   "cell_type": "code",
   "execution_count": null,
   "metadata": {
    "collapsed": true
   },
   "outputs": [],
   "source": []
  }
 ],
 "metadata": {
  "kernelspec": {
   "display_name": "Python 3",
   "language": "python",
   "name": "python3"
  },
  "language_info": {
   "codemirror_mode": {
    "name": "ipython",
    "version": 3
   },
   "file_extension": ".py",
   "mimetype": "text/x-python",
   "name": "python",
   "nbconvert_exporter": "python",
   "pygments_lexer": "ipython3",
   "version": "3.6.1"
  }
 },
 "nbformat": 4,
 "nbformat_minor": 2
}
